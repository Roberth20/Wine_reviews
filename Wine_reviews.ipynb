{
 "cells": [
  {
   "cell_type": "markdown",
   "id": "821d97c6-8d5a-4df2-b680-09ba96d43b31",
   "metadata": {
    "id": "821d97c6-8d5a-4df2-b680-09ba96d43b31"
   },
   "source": [
    "# Wine Reviews\n",
    "This analysis and possible prediction of wine data. The original dataset can be found [here](https://www.kaggle.com/datasets/zynicide/wine-reviews)"
   ]
  },
  {
   "cell_type": "code",
   "execution_count": null,
   "id": "724ecc54-241c-4d37-bd54-e7808aa67c37",
   "metadata": {
    "colab": {
     "base_uri": "https://localhost:8080/"
    },
    "id": "724ecc54-241c-4d37-bd54-e7808aa67c37",
    "outputId": "e1edac5a-8671-49a3-b861-b56d28f1ac43"
   },
   "outputs": [],
   "source": [
    "import pandas as pd\n",
    "import numpy as np\n",
    "import nltk\n",
    "import pickle\n",
    "from nltk import pos_tag  # Part-of-Speech\n",
    "from nltk.corpus import wordnet\n",
    "import string\n",
    "from nltk.stem import WordNetLemmatizer\n",
    "from nltk.sentiment.vader import SentimentIntensityAnalyzer  # sentiment analyzer\n",
    "from sklearn.feature_extraction.text import TfidfVectorizer\n",
    "import matplotlib.pyplot as plt\n",
    "from wordcloud import WordCloud\n",
    "from sklearn.model_selection import train_test_split\n",
    "from sklearn.linear_model import SGDClassifier\n",
    "from sklearn.metrics import classification_report\n",
    "from sklearn.preprocessing import LabelEncoder\n",
    "\n",
    "# If the corpus aren't downloaded\n",
    "#nltk.download('stopwords')\n",
    "#nltk.download('wordnet')\n",
    "#nltk.download('vader_lexicon')\n",
    "#nltk.download('averaged_perceptron_tagger')"
   ]
  },
  {
   "cell_type": "markdown",
   "id": "6c1e8499-7d91-4640-bf86-c703fd1e1464",
   "metadata": {
    "id": "6c1e8499-7d91-4640-bf86-c703fd1e1464"
   },
   "source": [
    "## Loading and cleaning"
   ]
  },
  {
   "cell_type": "markdown",
   "id": "8566e2b6-9177-4b57-a768-013abe07ad3f",
   "metadata": {
    "id": "8566e2b6-9177-4b57-a768-013abe07ad3f",
    "jp-MarkdownHeadingCollapsed": true
   },
   "source": [
    "### Load and screening"
   ]
  },
  {
   "cell_type": "code",
   "execution_count": null,
   "id": "440f645d-fe1d-4915-8472-68c60cc60416",
   "metadata": {
    "id": "440f645d-fe1d-4915-8472-68c60cc60416"
   },
   "outputs": [],
   "source": [
    "df = pd.read_csv('winemag-data-130k-v2.csv', index_col=0)"
   ]
  },
  {
   "cell_type": "markdown",
   "id": "f24e8dc7-913b-4380-ae74-657695ba8057",
   "metadata": {
    "id": "f24e8dc7-913b-4380-ae74-657695ba8057"
   },
   "source": [
    "First, we check  some basic data"
   ]
  },
  {
   "cell_type": "code",
   "execution_count": null,
   "id": "1c5d30c3-3e19-4758-aa56-e16f744623ca",
   "metadata": {
    "colab": {
     "base_uri": "https://localhost:8080/",
     "height": 0
    },
    "id": "1c5d30c3-3e19-4758-aa56-e16f744623ca",
    "outputId": "cf89ffc7-aaee-439e-9684-c79852baea3f"
   },
   "outputs": [],
   "source": [
    "df.head()"
   ]
  },
  {
   "cell_type": "code",
   "execution_count": null,
   "id": "37e1b07c-80cc-4b76-a098-4519bd9bcc35",
   "metadata": {
    "colab": {
     "base_uri": "https://localhost:8080/"
    },
    "id": "37e1b07c-80cc-4b76-a098-4519bd9bcc35",
    "outputId": "f76c5b90-e34c-4588-b6ef-278e090faafb"
   },
   "outputs": [],
   "source": [
    "df.info()"
   ]
  },
  {
   "cell_type": "code",
   "execution_count": null,
   "id": "d5c41116-cacc-4dcc-aa46-5eacb40f7184",
   "metadata": {
    "colab": {
     "base_uri": "https://localhost:8080/",
     "height": 0
    },
    "id": "d5c41116-cacc-4dcc-aa46-5eacb40f7184",
    "outputId": "c314ea17-52da-4a7c-f22d-5ca66c6efc07"
   },
   "outputs": [],
   "source": [
    "df.describe()"
   ]
  },
  {
   "cell_type": "markdown",
   "id": "b370aa85-7c20-444e-8d2d-ed89fa47605b",
   "metadata": {
    "id": "b370aa85-7c20-444e-8d2d-ed89fa47605b"
   },
   "source": [
    "Now, we know one fact: **The minimum score is 80**. It could be that, in general, the wines are good and enjoyable. So, the focus of the analysis can shift towards predict some description of the wine."
   ]
  },
  {
   "cell_type": "markdown",
   "id": "236a1903-9f44-42be-9760-978b6346be4d",
   "metadata": {
    "id": "236a1903-9f44-42be-9760-978b6346be4d",
    "jp-MarkdownHeadingCollapsed": true
   },
   "source": [
    "### Cleaning"
   ]
  },
  {
   "cell_type": "code",
   "execution_count": null,
   "id": "f2a5fb4a-a3d5-42bc-a807-0b87fffa6cd4",
   "metadata": {
    "id": "f2a5fb4a-a3d5-42bc-a807-0b87fffa6cd4"
   },
   "outputs": [],
   "source": [
    "# Drop columns that are not useful by nulls\n",
    "df.drop(['region_1', 'region_2', 'taster_name', 'taster_twitter_handle', 'designation'], axis=1, inplace=True)"
   ]
  },
  {
   "cell_type": "code",
   "execution_count": null,
   "id": "756402e9-e415-4dce-aacb-b9f4487f799f",
   "metadata": {
    "id": "756402e9-e415-4dce-aacb-b9f4487f799f"
   },
   "outputs": [],
   "source": [
    "# Check duplicates\n",
    "if df.duplicated().any():\n",
    "    df.drop_duplicates(inplace=True)"
   ]
  },
  {
   "cell_type": "markdown",
   "id": "4b646e3f-927f-4ff4-ab73-59511bb43911",
   "metadata": {
    "id": "4b646e3f-927f-4ff4-ab73-59511bb43911"
   },
   "source": [
    "We must solve the most null values possible, by this check each one"
   ]
  },
  {
   "cell_type": "code",
   "execution_count": null,
   "id": "d89d745e-2e68-4f16-b0ba-4f1e81e4090e",
   "metadata": {
    "colab": {
     "base_uri": "https://localhost:8080/",
     "height": 0
    },
    "id": "d89d745e-2e68-4f16-b0ba-4f1e81e4090e",
    "outputId": "cbe78a78-0367-4ae4-957b-1e465e586ce4"
   },
   "outputs": [],
   "source": [
    "# As the winery are complete, we could use them to fill empty data of country and province\n",
    "df[df.country.isna()].head()"
   ]
  },
  {
   "cell_type": "code",
   "execution_count": null,
   "id": "a63b3a1f-e115-4b31-86f0-638175e9e9c0",
   "metadata": {
    "colab": {
     "base_uri": "https://localhost:8080/"
    },
    "id": "a63b3a1f-e115-4b31-86f0-638175e9e9c0",
    "outputId": "2561a964-9ef0-47af-ae12-fe7f566df813"
   },
   "outputs": [],
   "source": [
    "# Check theory with the first\n",
    "df.country[(df.winery == 'Kakhetia Traditional Winemaking') & (df.country.notna())]"
   ]
  },
  {
   "cell_type": "code",
   "execution_count": null,
   "id": "b303b3a2-ab94-494f-b9b2-4c429aa62483",
   "metadata": {
    "id": "b303b3a2-ab94-494f-b9b2-4c429aa62483"
   },
   "outputs": [],
   "source": [
    "# Now implement a solution\n",
    "wineries = df.winery[df.country.isna()].unique()\n",
    "for w in wineries:\n",
    "    if not df.country[(df.winery == w) & (df.country.notna())].empty:\n",
    "        country = df.country[(df.winery == w) & (df.country.notna())].values[0]\n",
    "        province = df.province[(df.winery == w) & (df.province.notna())].values[0]\n",
    "        for i in df[(df.country.isna()) & (df.winery == w)].index:\n",
    "            df.loc[i, 'country'] = country\n",
    "            df.loc[i, 'province'] = province"
   ]
  },
  {
   "cell_type": "code",
   "execution_count": null,
   "id": "a3193217-91d3-47f2-a12e-f16dd085b6c0",
   "metadata": {
    "id": "a3193217-91d3-47f2-a12e-f16dd085b6c0"
   },
   "outputs": [],
   "source": [
    "# Delete the row where cannot be filled\n",
    "df.dropna(subset='country', inplace=True)"
   ]
  },
  {
   "cell_type": "code",
   "execution_count": null,
   "id": "d977fd2e-c0d4-4fb1-aaa2-70ae05297fed",
   "metadata": {
    "id": "d977fd2e-c0d4-4fb1-aaa2-70ae05297fed"
   },
   "outputs": [],
   "source": [
    "# Now remove the variery missing value\n",
    "df.dropna(subset='variety', inplace=True)"
   ]
  },
  {
   "cell_type": "markdown",
   "id": "46e712f3-1e9c-4000-9c91-7766fe49f41a",
   "metadata": {
    "id": "46e712f3-1e9c-4000-9c91-7766fe49f41a"
   },
   "source": [
    "For missing prices we could try to fill them with the mean of each winery. It could be more precise using a combination of variery and winery, but this approach could be enough."
   ]
  },
  {
   "cell_type": "code",
   "execution_count": null,
   "id": "50c5ef50-eb07-42f8-a621-65c8876f3667",
   "metadata": {
    "id": "50c5ef50-eb07-42f8-a621-65c8876f3667"
   },
   "outputs": [],
   "source": [
    "# Get mean prices by winery where missing values of price\n",
    "wineries = df.winery[df.price.isna()].unique()\n",
    "mean_price_by_winery = df[['price', 'winery']].groupby('winery').mean().loc[wineries].dropna()"
   ]
  },
  {
   "cell_type": "code",
   "execution_count": null,
   "id": "7a555ac2-0268-4825-bd06-4e9ca00e409e",
   "metadata": {
    "colab": {
     "base_uri": "https://localhost:8080/",
     "height": 0
    },
    "id": "7a555ac2-0268-4825-bd06-4e9ca00e409e",
    "outputId": "b4017b18-1469-4b85-d930-adf1ebb64b14"
   },
   "outputs": [],
   "source": [
    "df[df.price.isna() & (df.winery == mean_price_by_winery.index[0])]"
   ]
  },
  {
   "cell_type": "code",
   "execution_count": null,
   "id": "c8067439-dceb-46c4-a226-94e99699c93b",
   "metadata": {
    "id": "c8067439-dceb-46c4-a226-94e99699c93b"
   },
   "outputs": [],
   "source": [
    "for w in mean_price_by_winery.index:\n",
    "    indexes = df[df.price.isna() & (df.winery == w)].index\n",
    "    for i in indexes:\n",
    "        df.loc[i, 'price'] = mean_price_by_winery.loc[w].values[0]"
   ]
  },
  {
   "cell_type": "code",
   "execution_count": null,
   "id": "4b52355b-4abb-4516-85d4-449ab2f30642",
   "metadata": {
    "id": "4b52355b-4abb-4516-85d4-449ab2f30642"
   },
   "outputs": [],
   "source": [
    "# Fill with variety now\n",
    "varieties = df.variety[df.price.isna()].unique()\n",
    "mean_price_by_variety = df[['price', 'variety']].groupby('variety').mean().loc[varieties].dropna()"
   ]
  },
  {
   "cell_type": "code",
   "execution_count": null,
   "id": "9d28ad51-694e-45c8-9936-2d44c9c2f5fc",
   "metadata": {
    "id": "9d28ad51-694e-45c8-9936-2d44c9c2f5fc"
   },
   "outputs": [],
   "source": [
    "for w in mean_price_by_variety.index:\n",
    "    indexes = df[df.price.isna() & (df.variety == w)].index\n",
    "    for i in indexes:\n",
    "        df.loc[i, 'price'] = mean_price_by_variety.loc[w].values[0]"
   ]
  },
  {
   "cell_type": "code",
   "execution_count": null,
   "id": "0c470602-8e2d-4668-ae70-759d12355642",
   "metadata": {
    "id": "0c470602-8e2d-4668-ae70-759d12355642"
   },
   "outputs": [],
   "source": [
    "# Drop rows that couldn't be filled\n",
    "df.dropna(subset='price', inplace=True)"
   ]
  },
  {
   "cell_type": "code",
   "execution_count": null,
   "id": "a7ff30d1-0846-4010-989b-950e54ecbeeb",
   "metadata": {
    "colab": {
     "base_uri": "https://localhost:8080/"
    },
    "id": "a7ff30d1-0846-4010-989b-950e54ecbeeb",
    "outputId": "36350c03-e60a-418d-ed4e-61f86e42e5f0"
   },
   "outputs": [],
   "source": [
    "df.info()"
   ]
  },
  {
   "cell_type": "markdown",
   "id": "a5c96339-bb41-4bfd-927a-e570882a870c",
   "metadata": {
    "id": "a5c96339-bb41-4bfd-927a-e570882a870c"
   },
   "source": [
    "The data now is clean of null values, now it's time to check the duplicated values. On this case, differen reviews for same wine bottle"
   ]
  },
  {
   "cell_type": "code",
   "execution_count": null,
   "id": "bd3f8920-3129-4f2a-8359-492346e33c26",
   "metadata": {
    "colab": {
     "base_uri": "https://localhost:8080/"
    },
    "id": "bd3f8920-3129-4f2a-8359-492346e33c26",
    "outputId": "fd7c8f39-ecb3-4745-a13e-bfffd8ef3a69"
   },
   "outputs": [],
   "source": [
    "# Check wines with differents reviews\n",
    "df.title.duplicated().sum()"
   ]
  },
  {
   "cell_type": "code",
   "execution_count": null,
   "id": "0a4d21cf-d7eb-4f80-83a4-2d7a09f2bae8",
   "metadata": {
    "id": "0a4d21cf-d7eb-4f80-83a4-2d7a09f2bae8"
   },
   "outputs": [],
   "source": [
    "# Because it is not a big sample of data, drop it\n",
    "df.drop_duplicates(subset='title', inplace=True)"
   ]
  },
  {
   "cell_type": "code",
   "execution_count": null,
   "id": "a7a8faee-3773-4ae5-b859-3f0f00237643",
   "metadata": {
    "id": "a7a8faee-3773-4ae5-b859-3f0f00237643"
   },
   "outputs": [],
   "source": [
    "df.reset_index(drop=True, inplace=True)"
   ]
  },
  {
   "cell_type": "markdown",
   "id": "7dcf77fb-29ae-436a-83e3-f083d51131f7",
   "metadata": {
    "id": "7dcf77fb-29ae-436a-83e3-f083d51131f7"
   },
   "source": [
    "### Pre-processing\n",
    "The data of description will be able to work with it after processing the text data"
   ]
  },
  {
   "cell_type": "code",
   "execution_count": null,
   "id": "9c145027-af7d-4a35-a032-b7d3088a6e00",
   "metadata": {
    "id": "9c145027-af7d-4a35-a032-b7d3088a6e00"
   },
   "outputs": [],
   "source": [
    "# Stopwords\n",
    "sp = nltk.corpus.stopwords.words('english')"
   ]
  },
  {
   "cell_type": "code",
   "execution_count": null,
   "id": "cde54e19-19ca-4326-a519-171d453bb5f5",
   "metadata": {
    "id": "cde54e19-19ca-4326-a519-171d453bb5f5"
   },
   "outputs": [],
   "source": [
    "# First, let's create a function to identify the type of words\n",
    "def get_pos(pos_tag):\n",
    "    if pos_tag.startswith('J'):\n",
    "        return wordnet.ADJ\n",
    "    elif pos_tag.startswith('V'):\n",
    "        return wordnet.VERB\n",
    "    elif pos_tag.startswith('N'):\n",
    "        return wordnet.NOUN\n",
    "    elif pos_tag.startswith('R'):\n",
    "        return wordnet.ADV\n",
    "    else:\n",
    "        return wordnet.NOUN\n",
    "\n",
    "# And a cleaner\n",
    "def clean_description(text):\n",
    "    # Lower text\n",
    "    text = text.lower()\n",
    "    # tokenize and remove punctuation\n",
    "    text = [word.strip(string.punctuation) for word in text.split(' ')]\n",
    "    # Remove words with numbers\n",
    "    text = [word for word in text if not any(c.isdigit() for c in word)]\n",
    "    # Remove stopwords\n",
    "    text = [word for word in text if word not in sp]\n",
    "    # Remove empty tokens\n",
    "    text = [w for w in text if len(w) > 0]\n",
    "    pos_tags = pos_tag(text)\n",
    "    # Lemmatize words\n",
    "    text = [WordNetLemmatizer().lemmatize(t[0], get_pos(t[1])) for t in pos_tags]\n",
    "    # Remove words with one letter\n",
    "    text = [w for w in text if len(w) > 1]\n",
    "    # Reconstruct the description\n",
    "    text = \" \".join(text)\n",
    "    return text"
   ]
  },
  {
   "cell_type": "markdown",
   "id": "c8dbb629-be72-474e-b6f8-73f5e1f304a2",
   "metadata": {
    "id": "c8dbb629-be72-474e-b6f8-73f5e1f304a2"
   },
   "source": [
    "[Why do we lemmatize?](https://www.ibm.com/topics/stemming-lemmatization)"
   ]
  },
  {
   "cell_type": "code",
   "execution_count": null,
   "id": "99481739-c6b6-404a-a730-fb6fdc0f5915",
   "metadata": {
    "id": "99481739-c6b6-404a-a730-fb6fdc0f5915"
   },
   "outputs": [],
   "source": [
    "# Apply to data\n",
    "df['clean_description'] = df['description'].apply(clean_description)"
   ]
  },
  {
   "cell_type": "markdown",
   "id": "59037bfb-7658-4f55-bf93-ce5e39d20cc7",
   "metadata": {
    "id": "59037bfb-7658-4f55-bf93-ce5e39d20cc7"
   },
   "source": [
    "Now, it's time to add convert data in a way to be useful in the analysis"
   ]
  },
  {
   "cell_type": "code",
   "execution_count": null,
   "id": "bc8fdc40-6552-4577-8901-9e936a362431",
   "metadata": {
    "id": "bc8fdc40-6552-4577-8901-9e936a362431"
   },
   "outputs": [],
   "source": [
    "# First, let's generate some sentiment values\n",
    "sid = SentimentIntensityAnalyzer()\n",
    "df['Sentiment'] = df['description'].apply(sid.polarity_scores)\n",
    "df = pd.concat([df.drop('Sentiment', axis=1), df['Sentiment'].apply(pd.Series)], axis=1)"
   ]
  },
  {
   "cell_type": "code",
   "execution_count": null,
   "id": "c27aef0d-6f79-46fd-bcb5-51e5bc26bed7",
   "metadata": {
    "colab": {
     "base_uri": "https://localhost:8080/",
     "height": 643
    },
    "id": "c27aef0d-6f79-46fd-bcb5-51e5bc26bed7",
    "outputId": "09f22ab5-d94f-46fd-8917-41053ba11f5b"
   },
   "outputs": [],
   "source": [
    "df.head()"
   ]
  },
  {
   "cell_type": "markdown",
   "id": "ee305c56-d5e7-4e03-b150-cd5e6ebe9f12",
   "metadata": {
    "id": "ee305c56-d5e7-4e03-b150-cd5e6ebe9f12"
   },
   "source": [
    "## Exploratory analysis"
   ]
  },
  {
   "cell_type": "code",
   "execution_count": null,
   "id": "_VtRtYR704NW",
   "metadata": {
    "id": "_VtRtYR704NW"
   },
   "outputs": [],
   "source": [
    "# Remove columns that are not useful for the analysis\n",
    "df.drop(['description', 'title'], axis=1, inplace=True)"
   ]
  },
  {
   "cell_type": "code",
   "execution_count": null,
   "id": "BNLHeDP-1HSI",
   "metadata": {
    "id": "BNLHeDP-1HSI"
   },
   "outputs": [],
   "source": [
    "def word_cloud_generator(data):\n",
    "    #mask = np.array(Image.open('wine_mask.png'))\n",
    "    wordcloud = WordCloud(background_color='white',\n",
    "                          width=1000, height=1000,\n",
    "                          colormap='Blues').generate(' '.join(data.values))\n",
    "    plt.figure(figsize=(10,10), facecolor=None)\n",
    "    plt.imshow(wordcloud, interpolation='bilinear')\n",
    "    plt.axis(\"off\")\n",
    "    plt.show()"
   ]
  },
  {
   "cell_type": "code",
   "execution_count": null,
   "id": "CX6pI0_i5OkA",
   "metadata": {
    "colab": {
     "base_uri": "https://localhost:8080/",
     "height": 1000
    },
    "id": "CX6pI0_i5OkA",
    "outputId": "e11ad18d-f61e-47d8-850e-298a6118443d"
   },
   "outputs": [],
   "source": [
    "for i, v in enumerate(df.variety.unique()):\n",
    "    print(v)\n",
    "    word_cloud_generator(df['clean_description'][df.variety == v])\n",
    "    if i == 4:\n",
    "        break"
   ]
  },
  {
   "cell_type": "markdown",
   "id": "KfeNtGHjE4Y9",
   "metadata": {
    "id": "KfeNtGHjE4Y9"
   },
   "source": [
    "We can see how for a sample, they share some common words like *wine*, but also they have differents one tha may identify them."
   ]
  },
  {
   "cell_type": "code",
   "execution_count": null,
   "id": "3vOZKwLXFO0I",
   "metadata": {
    "colab": {
     "base_uri": "https://localhost:8080/",
     "height": 1000
    },
    "id": "3vOZKwLXFO0I",
    "outputId": "8d1091f6-36a9-42cf-f98d-73f619bc9574"
   },
   "outputs": [],
   "source": [
    "# We can explore more with other categorical variables\n",
    "for i, c in enumerate(df.country.unique()):\n",
    "    print(c)\n",
    "    word_cloud_generator(df['clean_description'][df.country == c])\n",
    "    if i == 4:\n",
    "        break"
   ]
  },
  {
   "cell_type": "code",
   "execution_count": null,
   "id": "Wt-49Ma_Ho9_",
   "metadata": {
    "colab": {
     "base_uri": "https://localhost:8080/",
     "height": 238
    },
    "id": "Wt-49Ma_Ho9_",
    "outputId": "5023d0d4-5691-4dec-828e-123275305134"
   },
   "outputs": [],
   "source": [
    "# We can check the best by winery by points and the mean price of their products\n",
    "df[['points', 'price', 'winery']].groupby('winery').mean().sort_values('points', ascending=False).head()"
   ]
  },
  {
   "cell_type": "code",
   "execution_count": null,
   "id": "NRhy0q7wIX-U",
   "metadata": {
    "colab": {
     "base_uri": "https://localhost:8080/",
     "height": 238
    },
    "id": "NRhy0q7wIX-U",
    "outputId": "f5049515-6e5d-47e5-fa45-43fc46d32829"
   },
   "outputs": [],
   "source": [
    "# Also, the \"worst\"\n",
    "df[['points', 'price', 'winery']].groupby('winery').mean().sort_values('points', ascending=False).tail()"
   ]
  },
  {
   "cell_type": "code",
   "execution_count": null,
   "id": "Uq_FqJROIiaS",
   "metadata": {
    "colab": {
     "base_uri": "https://localhost:8080/",
     "height": 238
    },
    "id": "Uq_FqJROIiaS",
    "outputId": "46f7aa08-3df2-4962-bfe2-a11cb09b2a52"
   },
   "outputs": [],
   "source": [
    "# Also, we can visualize the best origin provinces by positive sentiment\n",
    "df[['pos', 'province', 'points', 'price', 'country']].groupby(['province', 'country']).mean().sort_values('pos', ascending=False).head()"
   ]
  },
  {
   "cell_type": "markdown",
   "id": "NiIZrwBSL-UD",
   "metadata": {
    "id": "NiIZrwBSL-UD"
   },
   "source": [
    "With this simple analysis we found that wine varieties have some distincful words that may classify them. Also, we saw how different variables are related between them."
   ]
  },
  {
   "cell_type": "markdown",
   "id": "D_f2kjUoLsnu",
   "metadata": {
    "id": "D_f2kjUoLsnu"
   },
   "source": [
    "## Machine Learning"
   ]
  },
  {
   "cell_type": "code",
   "execution_count": null,
   "id": "lPJUMXkXfjjh",
   "metadata": {
    "id": "lPJUMXkXfjjh"
   },
   "outputs": [],
   "source": [
    "# Drop columns with excess categories to prevent over-fitting\n",
    "df.drop(['province', 'winery'], axis=1, inplace=True)"
   ]
  },
  {
   "cell_type": "markdown",
   "id": "c6e83e6e-89d9-43f8-b6d9-27457159e083",
   "metadata": {},
   "source": [
    "### Pre-process data\n",
    "For pre-processing, first we vectorize the reviews. For this, filter the varieties only to use the biggest sample of data"
   ]
  },
  {
   "cell_type": "code",
   "execution_count": null,
   "id": "Gg3QLm1pUcH5",
   "metadata": {
    "id": "Gg3QLm1pUcH5"
   },
   "outputs": [],
   "source": [
    "df = pd.read_csv('data/wine_data_clean.csv')\n",
    "counts = df[['country', 'variety']].groupby('variety').count()\n",
    "varieties = counts[counts.country >= 1000].index\n",
    "varieties.shape[0]"
   ]
  },
  {
   "cell_type": "code",
   "execution_count": null,
   "id": "8783cb71-0f3c-469e-987d-fd06e71bbdac",
   "metadata": {},
   "outputs": [],
   "source": [
    "df = df[df.variety.isin(varieties)]\n",
    "df.shape"
   ]
  },
  {
   "cell_type": "code",
   "execution_count": null,
   "id": "ecPw_3NonC1G",
   "metadata": {
    "id": "ecPw_3NonC1G"
   },
   "outputs": [],
   "source": [
    "# Encode labels\n",
    "le = LabelEncoder()\n",
    "df['variety'] = le.fit_transform(df['variety'])"
   ]
  },
  {
   "cell_type": "code",
   "execution_count": null,
   "id": "48b18589-e2f4-4183-957e-e4a742f38df2",
   "metadata": {},
   "outputs": [],
   "source": [
    "# Drop not useful data\n",
    "df.drop(['points', 'price', 'country', 'neg', 'neu', 'pos', 'compound'],\n",
    "        axis=1, inplace=True)"
   ]
  },
  {
   "cell_type": "code",
   "execution_count": null,
   "id": "7bce6560-04aa-4e7d-9531-92d15e67bad5",
   "metadata": {},
   "outputs": [],
   "source": [
    "# Save changes until now\n",
    "df.to_csv('data/vectorized_wine_reviews.csv', index=False)\n",
    "with open(f'models/le_variety.pkl', 'wb') as f:\n",
    "    pickle.dump(le, f)"
   ]
  },
  {
   "cell_type": "markdown",
   "id": "8e6e76ff-f679-4016-929e-40252e6710e6",
   "metadata": {},
   "source": [
    "### Training"
   ]
  },
  {
   "cell_type": "markdown",
   "id": "61844b41-ee5b-433b-96c7-a8adeb0c29f8",
   "metadata": {},
   "source": [
    "After evaluate different models and find best parameters (Check `optim.pi` and `training.py`), now, we compute the model"
   ]
  },
  {
   "cell_type": "code",
   "execution_count": null,
   "id": "i8yu4FdthSLC",
   "metadata": {
    "id": "i8yu4FdthSLC"
   },
   "outputs": [],
   "source": [
    "# Best classifier with best parameters\n",
    "sgd = SGDClassifier(loss='modified_huber',\n",
    "                    max_iter=10000,\n",
    "                    penalty='l2')"
   ]
  },
  {
   "cell_type": "code",
   "execution_count": null,
   "id": "fee2cd8d-2eae-476d-a75b-2aabc79d520d",
   "metadata": {},
   "outputs": [],
   "source": [
    "# Split data\n",
    "X, Y = df.clean_description, df['variety']"
   ]
  },
  {
   "cell_type": "code",
   "execution_count": null,
   "id": "37abb528-fe1e-4c71-a701-9b94bc071a12",
   "metadata": {},
   "outputs": [],
   "source": [
    "# Set vectorizer for text to numeric with TD-IDF transformation\n",
    "vectorizer =TfidfVectorizer()\n",
    "# Split training and test data\n",
    "X_train, X_test, Y_train, Y_test = train_test_split(X, Y, test_size=0.10)\n",
    "X_train = vectorizer.fit_transform(X_train)\n",
    "X_test = vectorizer.transform(X_test)"
   ]
  },
  {
   "cell_type": "code",
   "execution_count": null,
   "id": "29b15da0-cbe3-4722-bf2f-0398c7bc5c6c",
   "metadata": {},
   "outputs": [],
   "source": [
    "# Save vectorizer\n",
    "with open(f'models/vectorizer.pkl', 'wb') as f:\n",
    "    pickle.dump(vectorizer, f)"
   ]
  },
  {
   "cell_type": "code",
   "execution_count": null,
   "id": "b8f07dfd-5e2c-45f4-8a47-d4b2aeeac67d",
   "metadata": {},
   "outputs": [],
   "source": [
    "# Fit the model\n",
    "sgd.fit(X_train, Y_train)"
   ]
  },
  {
   "cell_type": "code",
   "execution_count": null,
   "id": "fae9e8c2-5e21-4f56-8e13-22433840fa07",
   "metadata": {
    "scrolled": true
   },
   "outputs": [],
   "source": [
    "# Make an evalutaion\n",
    "sgd.score(X_test, Y_test)"
   ]
  },
  {
   "cell_type": "markdown",
   "id": "5af19888-99e8-4a56-870a-b4186d955915",
   "metadata": {},
   "source": [
    "Finally, check deeply results with test data"
   ]
  },
  {
   "cell_type": "code",
   "execution_count": null,
   "id": "57a88667-6b02-4827-9230-46c1ffc95b00",
   "metadata": {},
   "outputs": [],
   "source": [
    "for n in range(X_test.shape[0]):\n",
    "    if n == 10:\n",
    "        break\n",
    "    print(\" \".join(vectorizer.inverse_transform(X_test)[n]))\n",
    "    print('Label: ', le.inverse_transform(Y_test)[n])\n",
    "    print()\n",
    "    print('Prediction: ', le.inverse_transform(sgd.predict(X_test))[n])\n",
    "    pred_proba = sgd.predict_proba(X_test[n])\n",
    "    tmp = pd.DataFrame(columns=le.classes_, data=pred_proba)\n",
    "    print('Probalities: ')\n",
    "    print(tmp[tmp > 0].dropna(axis=1))\n",
    "    print('\\n')"
   ]
  },
  {
   "cell_type": "markdown",
   "id": "abaab3f9-d975-45d4-808b-8b0480263c56",
   "metadata": {},
   "source": [
    "Save the models for implementation"
   ]
  },
  {
   "cell_type": "code",
   "execution_count": null,
   "id": "LPZ6rIdUx0eH",
   "metadata": {
    "id": "LPZ6rIdUx0eH"
   },
   "outputs": [],
   "source": [
    "with open('models/sgd.pkl', 'wb') as f:\n",
    "    pickle.dump(sgd, f)"
   ]
  }
 ],
 "metadata": {
  "colab": {
   "provenance": []
  },
  "kernelspec": {
   "display_name": "Python 3 (ipykernel)",
   "language": "python",
   "name": "python3"
  },
  "language_info": {
   "codemirror_mode": {
    "name": "ipython",
    "version": 3
   },
   "file_extension": ".py",
   "mimetype": "text/x-python",
   "name": "python",
   "nbconvert_exporter": "python",
   "pygments_lexer": "ipython3",
   "version": "3.12.3"
  }
 },
 "nbformat": 4,
 "nbformat_minor": 5
}
